{
 "cells": [
  {
   "cell_type": "code",
   "execution_count": 2,
   "metadata": {},
   "outputs": [
    {
     "name": "stderr",
     "output_type": "stream",
     "text": [
      "Using TensorFlow backend.\n"
     ]
    }
   ],
   "source": [
    "import numpy as np\n",
    "import keras\n",
    "from keras.preprocessing import image\n",
    "import os"
   ]
  },
  {
   "cell_type": "code",
   "execution_count": 3,
   "metadata": {
    "collapsed": true
   },
   "outputs": [],
   "source": [
    "CAT_PATH = \"../Hackdata/cataugmentation/\"\n",
    "DOG_PATH = \"../Hackdata/dog/\"\n",
    "PIG_PATH = \"../Hackdata/piga/\"\n",
    "COW_PATH = \"../Hackdata/CowAugmentation/\"\n",
    "MONKEY_PATH = \"../Hackdata/monkeyAugmentation/\"\n",
    "STRAY_PATH = \"../Hackdata/StrayDog/\""
   ]
  },
  {
   "cell_type": "code",
   "execution_count": 4,
   "metadata": {
    "collapsed": true
   },
   "outputs": [],
   "source": [
    "def load_image(path):\n",
    "    #img = image.load_img(path, target_size=(224,224,3))\n",
    "    img = cv2.imread(path,1)\n",
    "    img = cv2.resize(img, (224, 224))\n",
    "    img = img / 255.0\n",
    "    img = image.img_to_array(img)\n",
    "    return img"
   ]
  },
  {
   "cell_type": "code",
   "execution_count": 5,
   "metadata": {
    "collapsed": true
   },
   "outputs": [],
   "source": [
    "import cv2"
   ]
  },
  {
   "cell_type": "code",
   "execution_count": 6,
   "metadata": {
    "collapsed": true
   },
   "outputs": [],
   "source": [
    "cat_images=[]\n",
    "\n",
    "cat_list = os.listdir(CAT_PATH)\n",
    "\n",
    "for ix in range(len(cat_list)/2):\n",
    "    cat_images.append(load_image(CAT_PATH + str(cat_list[ix])))\n",
    "\n",
    "cat_images = np.asarray(cat_images)"
   ]
  },
  {
   "cell_type": "code",
   "execution_count": 7,
   "metadata": {},
   "outputs": [
    {
     "name": "stdout",
     "output_type": "stream",
     "text": [
      "(915, 224, 224, 3)\n"
     ]
    }
   ],
   "source": [
    "print cat_images.shape\n",
    "\n",
    "np.save(\"../Hackdata/cat_images.npy\", cat_images[:800])"
   ]
  },
  {
   "cell_type": "code",
   "execution_count": 8,
   "metadata": {
    "collapsed": true
   },
   "outputs": [],
   "source": [
    "dog_images=[]\n",
    "\n",
    "dog_list = os.listdir(DOG_PATH)\n",
    "\n",
    "for ix in range(len(dog_list)/2):\n",
    "    dog_images.append(load_image(DOG_PATH + str(dog_list[ix])))\n",
    "    \n",
    "dog_images = np.asarray(dog_images)"
   ]
  },
  {
   "cell_type": "code",
   "execution_count": 9,
   "metadata": {},
   "outputs": [
    {
     "name": "stdout",
     "output_type": "stream",
     "text": [
      "(5749, 224, 224, 3)\n"
     ]
    }
   ],
   "source": [
    "print dog_images.shape\n",
    "\n",
    "np.save(\"../Hackdata/dog_images.npy\", dog_images[:2000])"
   ]
  },
  {
   "cell_type": "code",
   "execution_count": 10,
   "metadata": {
    "collapsed": true
   },
   "outputs": [],
   "source": [
    "pig_images=[]\n",
    "\n",
    "pig_list = os.listdir(PIG_PATH)\n",
    "\n",
    "for ix in range(len(pig_list)/2):\n",
    "    pig_images.append(load_image(PIG_PATH + str(pig_list[ix])))\n",
    "    \n",
    "pig_images = np.asarray(pig_images)"
   ]
  },
  {
   "cell_type": "code",
   "execution_count": 11,
   "metadata": {},
   "outputs": [
    {
     "name": "stdout",
     "output_type": "stream",
     "text": [
      "(945, 224, 224, 3)\n"
     ]
    }
   ],
   "source": [
    "print pig_images.shape\n",
    "\n",
    "np.save(\"../Hackdata/pig_images.npy\", pig_images[:800])"
   ]
  },
  {
   "cell_type": "code",
   "execution_count": 12,
   "metadata": {
    "collapsed": true
   },
   "outputs": [],
   "source": [
    "cow_images=[]\n",
    "\n",
    "cow_list = os.listdir(COW_PATH)\n",
    "\n",
    "for ix in range(len(cow_list)/2):\n",
    "    cow_images.append(load_image(COW_PATH + str(cow_list[ix])))\n",
    "    \n",
    "cow_images = np.asarray(cow_images)"
   ]
  },
  {
   "cell_type": "code",
   "execution_count": 13,
   "metadata": {},
   "outputs": [
    {
     "name": "stdout",
     "output_type": "stream",
     "text": [
      "(895, 224, 224, 3)\n"
     ]
    }
   ],
   "source": [
    "print cow_images.shape\n",
    "\n",
    "np.save(\"../Hackdata/cow_images.npy\", cow_images[:800])"
   ]
  },
  {
   "cell_type": "code",
   "execution_count": 14,
   "metadata": {
    "collapsed": true
   },
   "outputs": [],
   "source": [
    "stray_images=[]\n",
    "\n",
    "stray_list = os.listdir(STRAY_PATH)\n",
    "\n",
    "for ix in range(len(stray_list)/2):\n",
    "    stray_images.append(load_image(STRAY_PATH + str(stray_list[ix])))\n",
    "    \n",
    "stray_images = np.asarray(stray_images)"
   ]
  },
  {
   "cell_type": "code",
   "execution_count": 15,
   "metadata": {},
   "outputs": [
    {
     "name": "stdout",
     "output_type": "stream",
     "text": [
      "(1610, 224, 224, 3)\n"
     ]
    }
   ],
   "source": [
    "print stray_images.shape\n",
    "\n",
    "np.save(\"../Hackdata/stray_images.npy\", stray_images[:1200])"
   ]
  },
  {
   "cell_type": "code",
   "execution_count": 16,
   "metadata": {
    "collapsed": true
   },
   "outputs": [],
   "source": [
    "monkey_images=[]\n",
    "\n",
    "monkey_list = os.listdir(MONKEY_PATH)\n",
    "\n",
    "for ix in range(len(monkey_list)/2):\n",
    "    monkey_images.append(load_image(MONKEY_PATH + str(monkey_list[ix])))\n",
    "    \n",
    "monkey_images = np.asarray(monkey_images)"
   ]
  },
  {
   "cell_type": "code",
   "execution_count": 17,
   "metadata": {},
   "outputs": [
    {
     "name": "stdout",
     "output_type": "stream",
     "text": [
      "(925, 224, 224, 3)\n"
     ]
    }
   ],
   "source": [
    "print monkey_images.shape\n",
    "\n",
    "np.save(\"../Hackdata/monkey_images.npy\", monkey_images[:800])"
   ]
  },
  {
   "cell_type": "code",
   "execution_count": 18,
   "metadata": {},
   "outputs": [
    {
     "name": "stdout",
     "output_type": "stream",
     "text": [
      "(800, 224, 224, 3)\n",
      "(2000, 224, 224, 3)\n",
      "(800, 224, 224, 3)\n",
      "(800, 224, 224, 3)\n",
      "(800, 224, 224, 3)\n",
      "(1200, 224, 224, 3)\n",
      "(6400, 224, 224, 3)\n"
     ]
    }
   ],
   "source": [
    "cat_images = np.load(\"../Hackdata/cat_images.npy\")\n",
    "dog_images = np.load(\"../Hackdata/dog_images.npy\")\n",
    "pig_images = np.load(\"../Hackdata/pig_images.npy\")\n",
    "cow_images = np.load(\"../Hackdata/cow_images.npy\")\n",
    "monkey_images = np.load(\"../Hackdata/monkey_images.npy\")\n",
    "stray_images = np.load(\"../Hackdata/stray_images.npy\")\n",
    "\n",
    "print cat_images.shape\n",
    "print dog_images.shape\n",
    "print pig_images.shape\n",
    "print cow_images.shape\n",
    "print monkey_images.shape\n",
    "print stray_images.shape\n",
    "\n",
    "data = np.concatenate((cat_images, dog_images, pig_images, cow_images, monkey_images, stray_images), axis=0)\n",
    "print data.shape\n",
    "np.save(\"./data.npy\", data)"
   ]
  },
  {
   "cell_type": "code",
   "execution_count": 19,
   "metadata": {},
   "outputs": [
    {
     "name": "stdout",
     "output_type": "stream",
     "text": [
      "[[[ 0.14901961  0.43137255  0.35294119]\n",
      "  [ 0.14901961  0.43137255  0.35294119]\n",
      "  [ 0.1254902   0.40392157  0.32549021]\n",
      "  ..., \n",
      "  [ 0.41960785  0.68627453  0.65882355]\n",
      "  [ 0.41568628  0.68235296  0.65490198]\n",
      "  [ 0.41568628  0.68235296  0.65490198]]\n",
      "\n",
      " [[ 0.14901961  0.43137255  0.35294119]\n",
      "  [ 0.14901961  0.43137255  0.35294119]\n",
      "  [ 0.12941177  0.40392157  0.32549021]\n",
      "  ..., \n",
      "  [ 0.41960785  0.68627453  0.65882355]\n",
      "  [ 0.41568628  0.68235296  0.65490198]\n",
      "  [ 0.41568628  0.68235296  0.65490198]]\n",
      "\n",
      " [[ 0.13333334  0.41176471  0.33333334]\n",
      "  [ 0.13333334  0.41176471  0.33333334]\n",
      "  [ 0.12156863  0.39215687  0.31764707]\n",
      "  ..., \n",
      "  [ 0.43137255  0.69411767  0.66666669]\n",
      "  [ 0.42352942  0.68627453  0.65882355]\n",
      "  [ 0.42352942  0.68627453  0.65882355]]\n",
      "\n",
      " ..., \n",
      " [[ 0.23529412  0.32156864  0.39215687]\n",
      "  [ 0.23529412  0.32156864  0.39215687]\n",
      "  [ 0.23921569  0.32549021  0.39607844]\n",
      "  ..., \n",
      "  [ 0.09019608  0.14509805  0.23529412]\n",
      "  [ 0.09019608  0.14509805  0.23529412]\n",
      "  [ 0.09019608  0.14509805  0.23529412]]\n",
      "\n",
      " [[ 0.23921569  0.32549021  0.39607844]\n",
      "  [ 0.23921569  0.32549021  0.39607844]\n",
      "  [ 0.23921569  0.32549021  0.39607844]\n",
      "  ..., \n",
      "  [ 0.0627451   0.11764706  0.20392157]\n",
      "  [ 0.0627451   0.11764706  0.20784314]\n",
      "  [ 0.0627451   0.11764706  0.20784314]]\n",
      "\n",
      " [[ 0.23921569  0.32549021  0.39607844]\n",
      "  [ 0.23921569  0.32549021  0.39607844]\n",
      "  [ 0.24313726  0.32941177  0.40000001]\n",
      "  ..., \n",
      "  [ 0.0627451   0.11764706  0.20784314]\n",
      "  [ 0.0627451   0.11764706  0.20784314]\n",
      "  [ 0.0627451   0.11764706  0.20784314]]]\n"
     ]
    }
   ],
   "source": [
    "print monkey_images[0]"
   ]
  },
  {
   "cell_type": "code",
   "execution_count": null,
   "metadata": {
    "collapsed": true
   },
   "outputs": [],
   "source": []
  },
  {
   "cell_type": "code",
   "execution_count": null,
   "metadata": {
    "collapsed": true
   },
   "outputs": [],
   "source": []
  },
  {
   "cell_type": "code",
   "execution_count": null,
   "metadata": {
    "collapsed": true
   },
   "outputs": [],
   "source": []
  },
  {
   "cell_type": "code",
   "execution_count": null,
   "metadata": {
    "collapsed": true
   },
   "outputs": [],
   "source": []
  },
  {
   "cell_type": "code",
   "execution_count": null,
   "metadata": {
    "collapsed": true
   },
   "outputs": [],
   "source": []
  },
  {
   "cell_type": "code",
   "execution_count": null,
   "metadata": {
    "collapsed": true
   },
   "outputs": [],
   "source": []
  },
  {
   "cell_type": "code",
   "execution_count": null,
   "metadata": {
    "collapsed": true
   },
   "outputs": [],
   "source": []
  },
  {
   "cell_type": "code",
   "execution_count": null,
   "metadata": {
    "collapsed": true
   },
   "outputs": [],
   "source": []
  },
  {
   "cell_type": "code",
   "execution_count": null,
   "metadata": {
    "collapsed": true
   },
   "outputs": [],
   "source": []
  },
  {
   "cell_type": "code",
   "execution_count": null,
   "metadata": {
    "collapsed": true
   },
   "outputs": [],
   "source": []
  },
  {
   "cell_type": "code",
   "execution_count": null,
   "metadata": {
    "collapsed": true
   },
   "outputs": [],
   "source": []
  },
  {
   "cell_type": "code",
   "execution_count": null,
   "metadata": {
    "collapsed": true
   },
   "outputs": [],
   "source": []
  },
  {
   "cell_type": "code",
   "execution_count": null,
   "metadata": {
    "collapsed": true
   },
   "outputs": [],
   "source": []
  },
  {
   "cell_type": "code",
   "execution_count": null,
   "metadata": {
    "collapsed": true
   },
   "outputs": [],
   "source": []
  },
  {
   "cell_type": "code",
   "execution_count": null,
   "metadata": {
    "collapsed": true
   },
   "outputs": [],
   "source": []
  },
  {
   "cell_type": "code",
   "execution_count": null,
   "metadata": {
    "collapsed": true
   },
   "outputs": [],
   "source": []
  },
  {
   "cell_type": "code",
   "execution_count": null,
   "metadata": {
    "collapsed": true
   },
   "outputs": [],
   "source": []
  }
 ],
 "metadata": {
  "kernelspec": {
   "display_name": "Python 2",
   "language": "python",
   "name": "python2"
  },
  "language_info": {
   "codemirror_mode": {
    "name": "ipython",
    "version": 2
   },
   "file_extension": ".py",
   "mimetype": "text/x-python",
   "name": "python",
   "nbconvert_exporter": "python",
   "pygments_lexer": "ipython2",
   "version": "2.7.12"
  }
 },
 "nbformat": 4,
 "nbformat_minor": 2
}
